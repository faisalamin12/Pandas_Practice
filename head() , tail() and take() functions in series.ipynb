{
 "cells": [
  {
   "cell_type": "code",
   "execution_count": 1,
   "metadata": {},
   "outputs": [],
   "source": [
    "import pandas as pd"
   ]
  },
  {
   "cell_type": "code",
   "execution_count": 6,
   "metadata": {},
   "outputs": [
    {
     "name": "stdout",
     "output_type": "stream",
     "text": [
      "val1     a\n",
      "val2     b\n",
      "val3     c\n",
      "val4     d\n",
      "val5     e\n",
      "val6     f\n",
      "val7     g\n",
      "val8     h\n",
      "val9     i\n",
      "val10    j\n",
      "val11    k\n",
      "dtype: object\n"
     ]
    }
   ],
   "source": [
    "series_1 = pd.Series([\"a\",\"b\",\"c\",\"d\",\"e\", \"f\" , \"g\" , \"h\" , \"i\" , \"j\",  \"k\"], index = [\"val1\" , \"val2\" , \"val3\" , \"val4\" , \"val5\" , \"val6\" , \"val7\" , \"val8\" , \"val9\" , \"val10\" , \"val11\"]\n",
    "                    )\n",
    "print(series_1)"
   ]
  },
  {
   "cell_type": "markdown",
   "metadata": {},
   "source": [
    "# head() Function"
   ]
  },
  {
   "cell_type": "markdown",
   "metadata": {},
   "source": [
    "\n",
    "\n",
    "head() Function print out the first few rows of data. By default it prints first 5 rows of Data\n",
    "\n",
    "But if you want to print specific rows of data you can give the values in Parantheses ---> ()\n",
    "\n",
    "**Syntax for By default 5 rows:-**\n",
    "\n",
    "   *\"seriesName.head()\"*\n",
    "\n",
    "**Syntax for Specific No of rows:**\n",
    "    \n",
    "    \n",
    "   *\"seriesName.head(no of Rows)\"*"
   ]
  },
  {
   "cell_type": "code",
   "execution_count": 10,
   "metadata": {},
   "outputs": [
    {
     "data": {
      "text/plain": [
       "val1    a\n",
       "val2    b\n",
       "val3    c\n",
       "val4    d\n",
       "val5    e\n",
       "dtype: object"
      ]
     },
     "execution_count": 10,
     "metadata": {},
     "output_type": "execute_result"
    }
   ],
   "source": [
    "#for By default 5 rows of data\n",
    "series_1.head()"
   ]
  },
  {
   "cell_type": "code",
   "execution_count": 11,
   "metadata": {},
   "outputs": [
    {
     "data": {
      "text/plain": [
       "val1    a\n",
       "val2    b\n",
       "val3    c\n",
       "dtype: object"
      ]
     },
     "execution_count": 11,
     "metadata": {},
     "output_type": "execute_result"
    }
   ],
   "source": [
    "# for Specific No of Rows\n",
    "\n",
    "series_1.head(3)"
   ]
  },
  {
   "cell_type": "markdown",
   "metadata": {},
   "source": [
    "# tail() Function"
   ]
  },
  {
   "cell_type": "markdown",
   "metadata": {},
   "source": [
    "tail() Function print out the last few rows of data. By default it prints last 5 rows of Data\n",
    "\n",
    "But if you want to print specific rows of data you can give the values in Parantheses ---> ()\n",
    "\n",
    "**Syntax for By default 5 rows:-**\n",
    "\n",
    "   *\"seriesName.tail()\"*\n",
    "\n",
    "**Syntax for Specific No of rows:**\n",
    "    \n",
    "    \n",
    "   *\"seriesName.tail(no of Rows)\"*"
   ]
  },
  {
   "cell_type": "code",
   "execution_count": 12,
   "metadata": {},
   "outputs": [
    {
     "data": {
      "text/plain": [
       "val7     g\n",
       "val8     h\n",
       "val9     i\n",
       "val10    j\n",
       "val11    k\n",
       "dtype: object"
      ]
     },
     "execution_count": 12,
     "metadata": {},
     "output_type": "execute_result"
    }
   ],
   "source": [
    "#for By default 5 rows of data\n",
    "series_1.tail()"
   ]
  },
  {
   "cell_type": "code",
   "execution_count": 17,
   "metadata": {},
   "outputs": [
    {
     "data": {
      "text/plain": [
       "val9     i\n",
       "val10    j\n",
       "val11    k\n",
       "dtype: object"
      ]
     },
     "execution_count": 17,
     "metadata": {},
     "output_type": "execute_result"
    }
   ],
   "source": [
    "# for Specific No of Rows\n",
    "\n",
    "series_1.tail(3)"
   ]
  },
  {
   "cell_type": "markdown",
   "metadata": {},
   "source": [
    "**Note:** For example if we give the value 13 in the head function and the series consist only 11 values so it prints 11 values and cut out additioanl number"
   ]
  },
  {
   "cell_type": "code",
   "execution_count": 18,
   "metadata": {},
   "outputs": [
    {
     "data": {
      "text/plain": [
       "val1     a\n",
       "val2     b\n",
       "val3     c\n",
       "val4     d\n",
       "val5     e\n",
       "val6     f\n",
       "val7     g\n",
       "val8     h\n",
       "val9     i\n",
       "val10    j\n",
       "val11    k\n",
       "dtype: object"
      ]
     },
     "execution_count": 18,
     "metadata": {},
     "output_type": "execute_result"
    }
   ],
   "source": [
    "series_1.head(13)"
   ]
  },
  {
   "cell_type": "markdown",
   "metadata": {},
   "source": [
    "# take() Function"
   ]
  },
  {
   "cell_type": "markdown",
   "metadata": {},
   "source": [
    "The .take() method will return the rows in a series that correspond to the  index based positions specified in a list\n",
    "\n",
    "For this series (series_1) have the index of String and that function is not working with String that's whyb we specify zero-based index loke 0 1 3 5 \n",
    "\n",
    "For example **0th** index point out the *val1* value so it print val1 value  ***a*** and 3rd index point the  *val4* value so it prints  **d** and so on...\n"
   ]
  },
  {
   "cell_type": "code",
   "execution_count": 16,
   "metadata": {},
   "outputs": [
    {
     "data": {
      "text/plain": [
       "val1     a\n",
       "val4     d\n",
       "val10    j\n",
       "dtype: object"
      ]
     },
     "execution_count": 16,
     "metadata": {},
     "output_type": "execute_result"
    }
   ],
   "source": [
    "series_1.take([0 , 3 , 9])"
   ]
  },
  {
   "cell_type": "code",
   "execution_count": null,
   "metadata": {},
   "outputs": [],
   "source": []
  }
 ],
 "metadata": {
  "kernelspec": {
   "display_name": "Python 3",
   "language": "python",
   "name": "python3"
  },
  "language_info": {
   "codemirror_mode": {
    "name": "ipython",
    "version": 3
   },
   "file_extension": ".py",
   "mimetype": "text/x-python",
   "name": "python",
   "nbconvert_exporter": "python",
   "pygments_lexer": "ipython3",
   "version": "3.7.3"
  }
 },
 "nbformat": 4,
 "nbformat_minor": 2
}
