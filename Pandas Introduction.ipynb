{
 "cells": [
  {
   "cell_type": "markdown",
   "metadata": {},
   "source": [
    "# Pandas Introduction\n"
   ]
  },
  {
   "cell_type": "code",
   "execution_count": 3,
   "metadata": {},
   "outputs": [],
   "source": [
    "# Pandas stands for “Python Data Analysis Library”\n",
    "    \n",
    "#According to the Wikipedia page on Pandas, “the name is derived from the term\n",
    "#“panel data”, an econometic term for multidimensional structured data sets.”\n",
    "\n",
    "#Pandas is quite a game changer when it comes to analyzing data with Python\n",
    "#and it is one of the most preferred and widely used tools in data Anaysis\n",
    "\n",
    "#What’s cool about Pandas is that it takes data (like a CSV file) and \n",
    "#creates a Python object with rows and columns called \"data frames\"\n",
    "#that looks very similar to table in a statistical software #Like Excel etc "
   ]
  },
  {
   "cell_type": "code",
   "execution_count": null,
   "metadata": {},
   "outputs": [],
   "source": []
  }
 ],
 "metadata": {
  "kernelspec": {
   "display_name": "Python 3",
   "language": "python",
   "name": "python3"
  },
  "language_info": {
   "codemirror_mode": {
    "name": "ipython",
    "version": 3
   },
   "file_extension": ".py",
   "mimetype": "text/x-python",
   "name": "python",
   "nbconvert_exporter": "python",
   "pygments_lexer": "ipython3",
   "version": "3.7.3"
  }
 },
 "nbformat": 4,
 "nbformat_minor": 2
}
